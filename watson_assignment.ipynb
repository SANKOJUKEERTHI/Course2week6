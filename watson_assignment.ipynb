{
    "cells": [
        {
            "cell_type": "markdown",
            "metadata": {
                "collapsed": true
            },
            "source": "# My Jupyter Notebook on IBM Watson Studio"
        },
        {
            "cell_type": "markdown",
            "metadata": {},
            "source": "**SANKOJU KEERTHI**\n\nDATA SCIENTIST"
        },
        {
            "cell_type": "markdown",
            "metadata": {},
            "source": "*I am interested in data science because it is very interesting. I love solving bussiness problems using technology, data science lies on the same defination.*"
        },
        {
            "cell_type": "markdown",
            "metadata": {},
            "source": "In the below code we are converting days into number of months."
        },
        {
            "cell_type": "code",
            "execution_count": 8,
            "metadata": {},
            "outputs": [
                {
                    "name": "stdout",
                    "output_type": "stream",
                    "text": "15.033333333333333 months\n"
                }
            ],
            "source": "a=451\nprint(\"{} months\".format(a/30))"
        },
        {
            "cell_type": "markdown",
            "metadata": {},
            "source": "##### Bulleted list\n\n* one\n* two\n* three\n\n##### numbered list\n\n1. one\n2. two\n3. three\n\n##### table\n\n|name|gender|\n|----|------|\n|kanny|F|\n|linda|F|\n|nick|M|\n\n"
        },
        {
            "cell_type": "code",
            "execution_count": null,
            "metadata": {},
            "outputs": [],
            "source": ""
        }
    ],
    "metadata": {
        "kernelspec": {
            "display_name": "Python 3.10",
            "language": "python",
            "name": "python3"
        },
        "language_info": {
            "codemirror_mode": {
                "name": "ipython",
                "version": 3
            },
            "file_extension": ".py",
            "mimetype": "text/x-python",
            "name": "python",
            "nbconvert_exporter": "python",
            "pygments_lexer": "ipython3",
            "version": "3.10.9"
        }
    },
    "nbformat": 4,
    "nbformat_minor": 1
}